{
 "cells": [
  {
   "cell_type": "markdown",
   "metadata": {
    "slideshow": {
     "slide_type": "slide"
    }
   },
   "source": [
    "# La data visualisation avec Python"
   ]
  },
  {
   "cell_type": "code",
   "execution_count": null,
   "metadata": {
    "slideshow": {
     "slide_type": "fragment"
    }
   },
   "outputs": [],
   "source": [
    "import numpy as np\n",
    "import pandas as pd"
   ]
  },
  {
   "cell_type": "markdown",
   "metadata": {
    "slideshow": {
     "slide_type": "fragment"
    }
   },
   "source": [
    "De nombreux packages sont disponibles en Python pour représenter des données\n",
    "de manière attractive.\n",
    "\n",
    "Le plus connu est Matplotlib et sert de base à de nombreux autres packages."
   ]
  },
  {
   "cell_type": "markdown",
   "metadata": {
    "slideshow": {
     "slide_type": "subslide"
    }
   },
   "source": [
    "## Construction de graphiques avec Matplotlib\n",
    "\n",
    "### Afficher des graphiques\n",
    "\n",
    "Matplotlib est un package complet pour la data visualisation. Il est basé sur la\n",
    "construction de graphiques en utilisant des commandes simples.\n",
    "\n",
    "On commence par importer le module pyplot du package :"
   ]
  },
  {
   "cell_type": "code",
   "execution_count": null,
   "metadata": {
    "slideshow": {
     "slide_type": "fragment"
    }
   },
   "outputs": [],
   "source": [
    "import matplotlib.pyplot as plt"
   ]
  },
  {
   "cell_type": "markdown",
   "metadata": {
    "slideshow": {
     "slide_type": "fragment"
    }
   },
   "source": [
    "Si vous travaillez dans un notebook Jupyter, il vous faudra ajouter une ligne au\n",
    "début de votre notebook afin de faire en sorte que le graphique apparaisse dans le\n",
    "notebook à la suite de votre code sous la forme d’une image statique :"
   ]
  },
  {
   "cell_type": "code",
   "execution_count": null,
   "metadata": {
    "slideshow": {
     "slide_type": "fragment"
    }
   },
   "outputs": [],
   "source": [
    "%matplotlib inline"
   ]
  },
  {
   "cell_type": "markdown",
   "metadata": {
    "slideshow": {
     "slide_type": "subslide"
    }
   },
   "source": [
    "Le principe du développement de graphiques avec Matplotlib est toujours le\n",
    "même : on peuple notre graphique petit à petit et, une fois le graphique terminé, on soumet le code et on affiche le graphique (avec plt.show() dans votre IDE classique ou en soumettant la cellule dans votre notebook). \n",
    "\n",
    "Par ailleurs, il existe deux manières de construire des graphiques avec Matplotlib.\n",
    "\n",
    "On peut enchaîner les traitements et finalement afficher un graphique :"
   ]
  },
  {
   "cell_type": "code",
   "execution_count": null,
   "metadata": {
    "slideshow": {
     "slide_type": "subslide"
    }
   },
   "outputs": [],
   "source": [
    "# on crée une figure\n",
    "plt.figure(figsize=(7,4))\n",
    "# on commence par un sous-graphique\n",
    "plt.subplot(2,2,1)\n",
    "plt.plot(np.random.randn(100))\n",
    "# on enchaine avec un second sous-graphique\n",
    "plt.subplot(2,2,2)\n",
    "plt.plot(np.random.random(size=100),\"+\")\n",
    "# on ajoute un troisième sous-graphique\n",
    "plt.subplot(2,2,3)\n",
    "plt.plot(np.random.randn(100),\"r.\")\n",
    "# on finit avec le dernier sous-graphique\n",
    "plt.subplot(2,2,4)\n",
    "plt.plot(np.random.randn(100), \"g--\")\n",
    "#plt.show() #si dans un IDE classique"
   ]
  },
  {
   "cell_type": "markdown",
   "metadata": {
    "slideshow": {
     "slide_type": "subslide"
    }
   },
   "source": [
    "On peut utiliser des objets et travailler dessus :"
   ]
  },
  {
   "cell_type": "markdown",
   "metadata": {
    "slideshow": {
     "slide_type": "subslide"
    }
   },
   "source": [
    "```python\n",
    "# on crée une figure avec 4 sous-graphiques\n",
    "fig, ax=plt.subplots(2,2)\n",
    "# on construit les 4 graphiques\n",
    "ax[0,0].plot(np.random.randn(100))\n",
    "ax[0,1].plot(np.random.random(size=100),\"+\")\n",
    "ax[1,0].plot(np.random.randn(100),\"r.\")\n",
    "ax[1,1].plot(np.random.randn(100), \"g--\")\n",
    "# on sauvegarde l'image dans un fichier\n",
    "plt.savefig(\"./data/mes_graphiques2.jpg\")\n",
    "#plt.show() #si dans un IDE classique\n",
    "```"
   ]
  },
  {
   "cell_type": "markdown",
   "metadata": {
    "slideshow": {
     "slide_type": "subslide"
    }
   },
   "source": [
    "Nous aurons tendance à privilégier la première approche qui est bien adaptée aux\n",
    "notebooks mais nous serons amenés à utiliser parfois la seconde notamment dans\n",
    "le cadre de graphiques plus interactifs."
   ]
  },
  {
   "cell_type": "markdown",
   "metadata": {
    "slideshow": {
     "slide_type": "slide"
    }
   },
   "source": [
    "### Définir son premier graphique\n",
    "\n",
    "Si on désire dessiner un graphique simple, on pourra utiliser la fonction `plot()` :\n",
    "\n",
    "- On a différentes fonctions pour modifier le graphique :\n",
    "    - `plt.title()`, `plt.xlabel()`, `plt.ylabel()`, `plt.axis`\n",
    "\n",
    "\n",
    "- En enchainant les `plt.plot()`, on peut avoir plusieurs courbes par graphique"
   ]
  },
  {
   "cell_type": "code",
   "execution_count": null,
   "metadata": {
    "scrolled": true,
    "slideshow": {
     "slide_type": "subslide"
    }
   },
   "outputs": [],
   "source": [
    "plt.figure(figsize=(7,3))\n",
    "plt.plot(np.random.randn(100))"
   ]
  },
  {
   "cell_type": "markdown",
   "metadata": {
    "slideshow": {
     "slide_type": "subslide"
    }
   },
   "source": [
    "On peut simplement ajouter des graphiques et des caractéristique à notre figure :"
   ]
  },
  {
   "cell_type": "code",
   "execution_count": null,
   "metadata": {
    "slideshow": {
     "slide_type": "subslide"
    }
   },
   "outputs": [],
   "source": [
    "plt.figure(figsize=(7,3))\n",
    "# on génère un premier graphique (rouge avec une ligne continue entre les points)\n",
    "plt.plot(np.random.randn(100),'r-' )\n",
    "# on génère un second graphique (bleu avec une ligne pointillée entre les points)\n",
    "plt.plot(np.random.randn(100),'b--' )\n",
    "# on ajoute des infos sur le titre, les noms des axes\n",
    "plt.title(\"Evolution du prix des actions sur 100 jours\")\n",
    "plt.xlabel(\"Temps\")\n",
    "plt.ylabel(\"Valeur\")"
   ]
  },
  {
   "cell_type": "markdown",
   "metadata": {
    "slideshow": {
     "slide_type": "slide"
    }
   },
   "source": [
    "### Nuage de points avec plt.scatter\n",
    "\n",
    "On peut utiliser la fonction `plt.scatter()` pour dessiner un nuage de points."
   ]
  },
  {
   "cell_type": "code",
   "execution_count": null,
   "metadata": {
    "slideshow": {
     "slide_type": "fragment"
    }
   },
   "outputs": [],
   "source": [
    "# on génère des données\n",
    "x=np.random.random(size=100)\n",
    "y=np.random.random(size=100)\n",
    "taille = np.random.random(size=100)*100\n",
    "couleurs=np.random.random(size=100)*100"
   ]
  },
  {
   "cell_type": "code",
   "execution_count": null,
   "metadata": {
    "slideshow": {
     "slide_type": "subslide"
    }
   },
   "outputs": [],
   "source": [
    "# s représente la taille des points\n",
    "# c représente les couleurs (on peut avoir une seule couleur)\n",
    "# cmap permet de fournir à Matplotlib une palette de couleurs\n",
    "plt.scatter(x,y,s=taille, c=couleurs, cmap=plt.get_cmap(\"jet\"))\n",
    "plt.xlabel(\"X\")\n",
    "plt.ylabel(\"Y\")\n",
    "plt.title(\"Représentation de points aléatoires\")\n",
    "plt.colorbar()"
   ]
  },
  {
   "cell_type": "markdown",
   "metadata": {},
   "source": [
    "<div class=\"alert alert-success\">\n",
    "    <h4><i class=\"fa fa-edit\"></i> Exercice</h4>\n",
    "    <ul>\n",
    "        <li>Utilisez les données AirBnB pour représenter les coordonnées géographiques sous forme de nuage de points.</li>\n",
    "    </ul>\n",
    "</div>"
   ]
  },
  {
   "cell_type": "code",
   "execution_count": null,
   "metadata": {},
   "outputs": [],
   "source": []
  },
  {
   "cell_type": "markdown",
   "metadata": {
    "slideshow": {
     "slide_type": "slide"
    }
   },
   "source": [
    "### La construction d’histogrammes\n",
    "\n",
    "Les histogrammes sont des outils de description des données extrêmement importants afin d’aider à déterminer la distribution sous-jacente à chaque variable quantitative.\n",
    "\n",
    "Si nous désirons créer deux histogrammes associés à deux variables ayant les mêmes échelles sur le même graphique, nous utilisons le code suivant :"
   ]
  },
  {
   "cell_type": "code",
   "execution_count": null,
   "metadata": {
    "slideshow": {
     "slide_type": "fragment"
    }
   },
   "outputs": [],
   "source": [
    "# on génère les données\n",
    "data1=np.random.randn(100000)+1\n",
    "data2=np.random.randn(100000)"
   ]
  },
  {
   "cell_type": "code",
   "execution_count": null,
   "metadata": {
    "slideshow": {
     "slide_type": "subslide"
    }
   },
   "outputs": [],
   "source": [
    "# 1er histogramme\n",
    "plt.hist(data1, bins=50, color=\"blue\", label=\"données 1\", alpha=0.5)\n",
    "# 2nd histogramme\n",
    "plt.hist(data2, bins=50, color=\"red\", label=\"données 2\", alpha = 0.5)\n",
    "plt.title(\"Histogrammes\")\n",
    "plt.ylabel(\"Fréquences\")\n",
    "plt.legend()"
   ]
  },
  {
   "cell_type": "markdown",
   "metadata": {
    "slideshow": {
     "slide_type": "subslide"
    }
   },
   "source": [
    "Dans ce code, on utilise *label=* pour donner un nom aux données. \n",
    "\n",
    "Le *alpha=* est utilisé afin d’afficher les graphiques en transparence et gère le degré d’opacité des graphiques."
   ]
  },
  {
   "cell_type": "markdown",
   "metadata": {
    "slideshow": {
     "slide_type": "slide"
    }
   },
   "source": [
    "## Seaborn pour des représentations plus élaborées\n",
    "### Utilisation de Seaborn\n",
    "\n",
    "Seaborn est un autre package intéressant pour la création de graphiques. Il est\n",
    "basé sur Matplotlib et en utilise les principes. Son principal intérêt réside dans la création de graphiques plus spécifiques en quelques lignes de code."
   ]
  },
  {
   "cell_type": "code",
   "execution_count": null,
   "metadata": {
    "slideshow": {
     "slide_type": "fragment"
    }
   },
   "outputs": [],
   "source": [
    "import seaborn as sns"
   ]
  },
  {
   "cell_type": "markdown",
   "metadata": {
    "slideshow": {
     "slide_type": "subslide"
    }
   },
   "source": [
    "### Le box-plot ou la boîte à moustaches"
   ]
  },
  {
   "cell_type": "markdown",
   "metadata": {
    "slideshow": {
     "slide_type": "fragment"
    }
   },
   "source": [
    "Un box plot (appelé aussi une boîte à moustache) est un graphique utilisé fréquemment pour l’exploration des données. Il permet de visualiser pour une variable ou pour un groupe d’individus le comportement global des individus."
   ]
  },
  {
   "cell_type": "markdown",
   "metadata": {
    "slideshow": {
     "slide_type": "fragment"
    }
   },
   "source": [
    "Nous utiliserons ici des données de la région Île-de-France sur les communes de\n",
    "la (données open data Île-de-France, voir le début du chapitre 4 pour une description des données). \n",
    "\n",
    "On représente le box-plot du nombre de naissances par commune en fonction du département d’Île-de-France :"
   ]
  },
  {
   "cell_type": "code",
   "execution_count": null,
   "metadata": {
    "slideshow": {
     "slide_type": "subslide"
    }
   },
   "outputs": [],
   "source": [
    "# on récupère les données\n",
    "data_idf=pd.read_csv(\"./data/base-dpt.csv\",sep=\";\")\n",
    "\n",
    "sns.boxplot(data_idf[\"DEP\"], data_idf[\"NAIS0914\"]/ data_idf[\"P09_POP\"])\n",
    "plt.title(\"Box plot du nombre de naissances par habitant par département\")"
   ]
  },
  {
   "cell_type": "markdown",
   "metadata": {
    "slideshow": {
     "slide_type": "subslide"
    }
   },
   "source": [
    "### Les pairplot() de Seaborn ou la matrice de graphiques\n",
    "\n",
    "Le pairplot de Seaborn est un outil très efficace pour représenter les variables\n",
    "quantitatives d’un DataFrame (à condition de ne pas trop en avoir).\n",
    "\n",
    "Un pairplot va construire une figure avec à l’intérieur une matrice de graphiques.\n",
    "\n",
    "Les éléments sur la diagonale sont des distplot et les éléments hors de la diagonale sont des nuages de points qui croisent les variables deux à deux.\n",
    "\n",
    "Si nous essayons de représenter ce graphique par département sur les données\n",
    "de la région Ile-de-France :"
   ]
  },
  {
   "cell_type": "code",
   "execution_count": null,
   "metadata": {
    "scrolled": true,
    "slideshow": {
     "slide_type": "skip"
    }
   },
   "outputs": [],
   "source": [
    "sns.pairplot(data=data_idf, hue='DEP',\n",
    "             vars=['P14_POP', 'SUPERF','NAIS0914', 'DECE0914'],size=2, \n",
    "             plot_kws={\"s\": 25},markers=['x','o','v','^','<','+','>',\"*\"])\n"
   ]
  },
  {
   "cell_type": "markdown",
   "metadata": {
    "slideshow": {
     "slide_type": "slide"
    }
   },
   "source": [
    "Il existe bien d'autres fonctionnalités de Matplotlib et Seaborn, n'hésitez pas à consulter la documentation de ces packages :\n",
    "- https://matplotlib.org/ \n",
    "- https://seaborn.pydata.org/"
   ]
  }
 ],
 "metadata": {
  "celltoolbar": "Slideshow",
  "kernelspec": {
   "display_name": "Python 3",
   "language": "python",
   "name": "python3"
  },
  "language_info": {
   "codemirror_mode": {
    "name": "ipython",
    "version": 3
   },
   "file_extension": ".py",
   "mimetype": "text/x-python",
   "name": "python",
   "nbconvert_exporter": "python",
   "pygments_lexer": "ipython3",
   "version": "3.8.10"
  }
 },
 "nbformat": 4,
 "nbformat_minor": 4
}
