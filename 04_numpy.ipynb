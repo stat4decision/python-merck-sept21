{
 "cells": [
  {
   "cell_type": "markdown",
   "metadata": {
    "slideshow": {
     "slide_type": "slide"
    }
   },
   "source": [
    "# Manipulation des matrices et des vecteurs avec NumPy\n",
    "\n",
    "![image](./images/numpy.png)"
   ]
  },
  {
   "cell_type": "markdown",
   "metadata": {
    "slideshow": {
     "slide_type": "slide"
    }
   },
   "source": [
    "# NumPy\n",
    "\n",
    "NumPy est un package Python spécialement adapté à la manipulation de matrices ou de tableaux multidimensionnels et possédant des fonctions mathématiques opérant sur ces tableaux.\n",
    "\n",
    "NumPy est l'outil de référence pour travailler sur des données non structurées (signal, audio, images, vidéos).\n",
    "\n",
    "Généralement pour simplifier l’appel aux fonctions NumPy, on utilise :\n",
    "```\n",
    "import numpy as np\n",
    "```\n",
    "Il est installé par défaut dans la suite Anaconda."
   ]
  },
  {
   "cell_type": "code",
   "execution_count": null,
   "metadata": {
    "slideshow": {
     "slide_type": "fragment"
    }
   },
   "outputs": [],
   "source": [
    "import numpy as np"
   ]
  },
  {
   "cell_type": "markdown",
   "metadata": {
    "slideshow": {
     "slide_type": "subslide"
    }
   },
   "source": [
    "# NumPy, les origines de la data en Python\n",
    "\n",
    "- NumPy est le premier package de traitement de données en Python\n",
    "- Il est basé sur un ensemble de fonctions codées en C\n",
    "- Il combine une classe : les ndarray et des fonctions universelles\n",
    "- Il est le socle de la plupart des packages de data science\n",
    "\n",
    "NumPy utilise des arrays\n",
    "- un array est l'équivalent d'un tenseur\n",
    "- un array à unedimension est un vecteur\n",
    "- un array à deux dimensions est une matrice\n",
    "\n",
    "On utilise les arrays pour travailler sur des données non structurées :\n",
    "- une image est représentée par un array à 3 dimensions\n",
    "- une vidéo est représenté par un array à 4 dimensions\n",
    "- ..."
   ]
  },
  {
   "cell_type": "markdown",
   "metadata": {
    "slideshow": {
     "slide_type": "slide"
    }
   },
   "source": [
    "# NumPy et les arrays\n",
    "\n",
    "- Les arrays sont des structures centrales pour travailler en data science. \n",
    "- Les arrays de NumPy sont utilisées comme des vecteurs ou des matrices\n",
    "- On crée un array en utilisant la fonction `np.array()`, on peut créer un array à partir d’une liste ou de plusieurs listes\n",
    "- Les arrays ne se composent que d’un type de données (dans sa forme classique)\n",
    "- Pour connaître la taille d’un array, on utilise la fonction `.shape`\n",
    "- Pour connaître le type de données dans l’array, on utilise `.dtype`"
   ]
  },
  {
   "cell_type": "code",
   "execution_count": null,
   "metadata": {
    "slideshow": {
     "slide_type": "subslide"
    }
   },
   "outputs": [],
   "source": [
    "#1er array\n",
    "arr1 = np.array([3,5,7])\n",
    "print(arr1.shape,arr1.dtype)"
   ]
  },
  {
   "cell_type": "markdown",
   "metadata": {
    "slideshow": {
     "slide_type": "subslide"
    }
   },
   "source": [
    "## Un peu de vocabulaire\n",
    "\n",
    "- Les dimensions sont appelées `axis` (`axis=0` : colonnes, `axis=1` : lignes)\n",
    "- Le nombre de dimensions est appelé `.ndim`\n",
    "- La taille (`.size`) est le nombre total d’éléments d’un array\n",
    "- La forme est associée à `.shape`"
   ]
  },
  {
   "cell_type": "markdown",
   "metadata": {
    "slideshow": {
     "slide_type": "slide"
    }
   },
   "source": [
    "# Numpy et les arrays\n",
    "\n",
    "On peut générer des arrays de manière simple :"
   ]
  },
  {
   "cell_type": "code",
   "execution_count": null,
   "metadata": {
    "slideshow": {
     "slide_type": "fragment"
    }
   },
   "outputs": [],
   "source": [
    "np.array([ ], dtype=float)"
   ]
  },
  {
   "cell_type": "code",
   "execution_count": null,
   "metadata": {
    "slideshow": {
     "slide_type": "fragment"
    }
   },
   "outputs": [],
   "source": [
    "np.zeros(5)"
   ]
  },
  {
   "cell_type": "code",
   "execution_count": null,
   "metadata": {
    "slideshow": {
     "slide_type": "subslide"
    }
   },
   "outputs": [],
   "source": [
    "np.ones((5,5))"
   ]
  },
  {
   "cell_type": "code",
   "execution_count": null,
   "metadata": {
    "slideshow": {
     "slide_type": "fragment"
    }
   },
   "outputs": [],
   "source": [
    "np.empty(5)"
   ]
  },
  {
   "cell_type": "code",
   "execution_count": null,
   "metadata": {
    "slideshow": {
     "slide_type": "fragment"
    }
   },
   "outputs": [],
   "source": [
    "np.full((2,3), 10)"
   ]
  },
  {
   "cell_type": "markdown",
   "metadata": {
    "slideshow": {
     "slide_type": "slide"
    }
   },
   "source": [
    "# D'autres générateurs d'arrays\n",
    "\n",
    "- `np.arange(5)` pour créer un array de taille 5 avec des valeurs de 0 à 4, on peut utilise `start=`, `stop=` et `step=`\n",
    "- On peut utiliser `arange` avec des float mais on préfère généralement `np.linspace`\n",
    "    - Cette fonction génère un nombre donné de valeurs équidistantes entre deux bornes\n"
   ]
  },
  {
   "cell_type": "code",
   "execution_count": null,
   "metadata": {
    "slideshow": {
     "slide_type": "fragment"
    }
   },
   "outputs": [],
   "source": [
    "np.linspace(0, 5, 11)"
   ]
  },
  {
   "cell_type": "markdown",
   "metadata": {
    "slideshow": {
     "slide_type": "slide"
    }
   },
   "source": [
    "# Premières opérations arithmétiques\n",
    "\n",
    "Les opérations arithmétiques de bases se font terme à terme\n",
    "\n",
    "`*`, `+`, `-`, `/`, `**` (puissance), `%` (modulo)\n"
   ]
  },
  {
   "cell_type": "code",
   "execution_count": null,
   "metadata": {
    "slideshow": {
     "slide_type": "fragment"
    }
   },
   "outputs": [],
   "source": [
    "arr2 = np.arange(1,4)"
   ]
  },
  {
   "cell_type": "code",
   "execution_count": null,
   "metadata": {
    "slideshow": {
     "slide_type": "fragment"
    }
   },
   "outputs": [],
   "source": [
    "print(arr2+arr2)\n",
    "print(arr2*arr2)\n",
    "print(arr2/arr2)\n",
    "# attention les vecteurs doivent avoir les mêmes dimensions"
   ]
  },
  {
   "cell_type": "markdown",
   "metadata": {
    "slideshow": {
     "slide_type": "subslide"
    }
   },
   "source": [
    "## Un cas spécifique : le broadcasting\n",
    "\n",
    "Dans certains cas, on peut affectuer des calculs entre des arrays de tailles différentes.\n",
    "\n",
    "Pour pouvoir faire cela, il suffit d'avoir une dimension commune, on a :"
   ]
  },
  {
   "cell_type": "code",
   "execution_count": null,
   "metadata": {
    "slideshow": {
     "slide_type": "fragment"
    }
   },
   "outputs": [],
   "source": [
    "arr_id=np.eye(3)\n",
    "arr_id*arr2"
   ]
  },
  {
   "cell_type": "markdown",
   "metadata": {
    "slideshow": {
     "slide_type": "subslide"
    }
   },
   "source": [
    "### Le broadcasting sur une image avec NumPy"
   ]
  },
  {
   "cell_type": "code",
   "execution_count": null,
   "metadata": {
    "slideshow": {
     "slide_type": "fragment"
    }
   },
   "outputs": [],
   "source": [
    "import matplotlib.pyplot as plt\n",
    "%matplotlib inline"
   ]
  },
  {
   "cell_type": "code",
   "execution_count": null,
   "metadata": {
    "slideshow": {
     "slide_type": "fragment"
    }
   },
   "outputs": [],
   "source": [
    "image_paris=plt.imread(\"./Data/tour-eiffel.png\")"
   ]
  },
  {
   "cell_type": "code",
   "execution_count": null,
   "metadata": {},
   "outputs": [],
   "source": [
    "plt.imshow(image_paris)"
   ]
  },
  {
   "cell_type": "markdown",
   "metadata": {
    "slideshow": {
     "slide_type": "subslide"
    }
   },
   "source": [
    "<div class=\"alert alert-success\">\n",
    "    <h4><i class=\"fa fa-edit\"></i> Exercice</h4>\n",
    "    <ul>\n",
    "        <li>Essayez de modifier les couleurs de cette image</li>\n",
    "    </ul>\n",
    "</div>"
   ]
  },
  {
   "cell_type": "code",
   "execution_count": null,
   "metadata": {
    "slideshow": {
     "slide_type": "fragment"
    }
   },
   "outputs": [],
   "source": []
  },
  {
   "cell_type": "markdown",
   "metadata": {
    "slideshow": {
     "slide_type": "slide"
    }
   },
   "source": [
    "# Manipulation d'arrays\n",
    "\n",
    "L'indexation des arrays est similaire à celle des listes :\n",
    "- Accéder à un élément : `arr1[i]`\n",
    "- Si on veut plusieurs éléments, on peut utiliser `arr1[i:j]`\n",
    "- On peut aussi fixer des valeurs pour plusieurs éléments : `arr1[i:j]=100`\n",
    "- On peut aussi modifier toutes les valeurs de l’array : `array[:]=100`\n",
    "- Si on veut garder l’array initial on utilise `.copy()`\n"
   ]
  },
  {
   "cell_type": "markdown",
   "metadata": {
    "slideshow": {
     "slide_type": "subslide"
    }
   },
   "source": [
    "<div class=\"alert alert-success\">\n",
    "    <h4><i class=\"fa fa-edit\"></i> Exercice</h4>\n",
    "    <ul>\n",
    "        <li>Essayez d'extraire une partie de l'image (la tour Eiffel)</li>\n",
    "        <li><em>Indice :</em> On regarde les coordonnées sur l'image et on construit une sous-matrice</li>\n",
    "    </ul>\n",
    "</div>"
   ]
  },
  {
   "cell_type": "code",
   "execution_count": null,
   "metadata": {
    "slideshow": {
     "slide_type": "fragment"
    }
   },
   "outputs": [],
   "source": []
  },
  {
   "cell_type": "markdown",
   "metadata": {
    "slideshow": {
     "slide_type": "slide"
    }
   },
   "source": [
    "# Changement de dimension\n",
    "\n",
    "Le seul attribut qui change est `.shape`, on peut utiliser la méthode `.reshape()`"
   ]
  },
  {
   "cell_type": "code",
   "execution_count": null,
   "metadata": {
    "slideshow": {
     "slide_type": "fragment"
    }
   },
   "outputs": [],
   "source": [
    "arr_2dim = np.arange(10).reshape(5, 2)"
   ]
  },
  {
   "cell_type": "code",
   "execution_count": null,
   "metadata": {
    "slideshow": {
     "slide_type": "fragment"
    }
   },
   "outputs": [],
   "source": [
    "# Pour fixer une valeur pour tous les éléments d’une ligne, on utilise \n",
    "arr_2dim[2] = 22\n",
    "# Pour fixer une valeur pour un seul élément, on utilise \n",
    "arr_2dim[3,1] = 33\n",
    "# On peut aussi sélectionner des sous-parties d’un array à 2 dimensions"
   ]
  },
  {
   "cell_type": "markdown",
   "metadata": {
    "slideshow": {
     "slide_type": "slide"
    }
   },
   "source": [
    "# Opérations matricielles sur les arrays\n",
    "\n",
    "On peut créer une matrice (un array) en utilisant la fonction `.reshape` :\n",
    "- Pour créer une matrice 4 x 5 à partir d’une suite de 20 nombres, on utilise :\n",
    "```\n",
    "np.arange(20).reshape((4,5))\n",
    "```\n",
    "- Transposée : `.T`\n",
    "- Produit matriciel `np.dot()` ou `@`"
   ]
  },
  {
   "cell_type": "markdown",
   "metadata": {
    "slideshow": {
     "slide_type": "subslide"
    }
   },
   "source": [
    "<div class=\"alert alert-success\">\n",
    "    <h4><i class=\"fa fa-edit\"></i> Exercice</h4>\n",
    "    <ul>\n",
    "        <li>Construire une matrice rectangulaire de taille 3 x 2 avec une suite de nombres commençant à 5</li>\n",
    "        <li>Calculer le produit de la transposée par la matrice.</li>\n",
    "    </ul>\n",
    "</div>"
   ]
  },
  {
   "cell_type": "code",
   "execution_count": null,
   "metadata": {},
   "outputs": [],
   "source": [
    "array_entiers = np.arange(___).reshape(___)"
   ]
  },
  {
   "cell_type": "code",
   "execution_count": null,
   "metadata": {},
   "outputs": [],
   "source": [
    "arr_mat = ___"
   ]
  },
  {
   "cell_type": "code",
   "execution_count": null,
   "metadata": {},
   "outputs": [],
   "source": [
    "# pour vérifier que vous avez bien répondu à l'exercice, soumettre cette cellule\n",
    "# on utilise maj + Entrée\n",
    "assert arr_mat[1,1] == 200\n",
    "print(\"Bravo !\")"
   ]
  },
  {
   "cell_type": "markdown",
   "metadata": {
    "slideshow": {
     "slide_type": "slide"
    }
   },
   "source": [
    "# Les fonctions universelles sur les arrays\n",
    "NumPy possède de nombreuses fonctions sur les arrays permettant de manipuler des arrays\n",
    "- `np.where(condition, A, B)` permet de faire une condition de manière simple\n",
    "- `np.sum()`\n",
    "- `np.mean()`\n",
    "- `np.std()`\n",
    "- `np.var()`\n",
    "- `np.median()`\n",
    "- `np.percentile()`\n",
    "- `np.average()` : moyenne pondérée\n"
   ]
  },
  {
   "cell_type": "markdown",
   "metadata": {
    "slideshow": {
     "slide_type": "subslide"
    }
   },
   "source": [
    "Sur des booléens :\n",
    "- `np.any()` au moins un `True`\n",
    "- `np.all()` tous `True`\n",
    "\n",
    "Les tris :\n",
    "- `np.sort()`\n",
    "- `np.argsort()`\n",
    "\n",
    "Sur des chaînes :\n",
    "- `np.unique()` permet d’obtenir chaque valeur unique\n",
    "- `np.in1d(,)` permet de vérifier si les éléments du 1er membre se trouvent dans le second\n",
    "\n"
   ]
  },
  {
   "cell_type": "markdown",
   "metadata": {
    "slideshow": {
     "slide_type": "subslide"
    }
   },
   "source": [
    "<div class=\"alert alert-success\">\n",
    "    <h4><i class=\"fa fa-edit\"></i> Exercice</h4>\n",
    "    <ul>\n",
    "        <li>Générer un array de nombres aléatoires avec <code>np.random.randn()</code> puis remplacer les valeurs plus petites que  0 par 0.</li>\n",
    "        <li><em>Indice :</em> on peut utliser <code>np.where(condition, vrai, faux)</code></li>\n",
    "    </ul>\n",
    "</div>"
   ]
  },
  {
   "cell_type": "code",
   "execution_count": null,
   "metadata": {
    "slideshow": {
     "slide_type": "-"
    }
   },
   "outputs": [],
   "source": [
    "array_aleat = np.random.randn(____)"
   ]
  },
  {
   "cell_type": "code",
   "execution_count": null,
   "metadata": {},
   "outputs": [],
   "source": [
    "array_positif = ___"
   ]
  },
  {
   "cell_type": "code",
   "execution_count": null,
   "metadata": {},
   "outputs": [],
   "source": [
    "# pour vérifier que vous avez bien répondu à l'exercice, soumettre cette cellule\n",
    "# on utilise maj + Entrée\n",
    "assert array_positif.min() == 0\n",
    "print(\"Bravo !\")"
   ]
  },
  {
   "cell_type": "markdown",
   "metadata": {
    "slideshow": {
     "slide_type": "slide"
    }
   },
   "source": [
    "# Sauvegarder et charger des arrays\n",
    "\n",
    "On utilise :\n",
    "- `np.save('mon_array',mon_array)` pour sauver un array\n",
    "- `np.load('mon_array.npy')` pour charger un array\n",
    "- `np.savez('ziparray.npz', x=mon_array, y=mpn_array2)` sauvegarder en zip plusieurs arrays\n",
    "- `np.savetxt('textfile.txt', mon_array, delimiter=';')` pour sauvegarder un array dans un fichier texte\n",
    "- `np.loadtxt('textfile.txt', delimiter=';')` pour charger un array depuis un fichier texte\n"
   ]
  },
  {
   "cell_type": "markdown",
   "metadata": {
    "slideshow": {
     "slide_type": "subslide"
    }
   },
   "source": [
    "<div class=\"alert alert-success\">\n",
    "    <h4><i class=\"fa fa-edit\"></i> Exercice</h4>\n",
    "    <ul>\n",
    "        <li>Générer une matrice simple et sauvegarder cette matrice dans 'array.npy' puis dans 'array.txt'</li>\n",
    "    </ul>\n",
    "</div>"
   ]
  },
  {
   "cell_type": "code",
   "execution_count": null,
   "metadata": {},
   "outputs": [],
   "source": [
    "mat = ___"
   ]
  },
  {
   "cell_type": "code",
   "execution_count": null,
   "metadata": {},
   "outputs": [],
   "source": [
    "np.save(\"array.npy\",___)"
   ]
  },
  {
   "cell_type": "code",
   "execution_count": null,
   "metadata": {},
   "outputs": [],
   "source": [
    "# pour vérifier que vous avez bien répondu à l'exercice, soumettre cette cellule\n",
    "# on utilise maj + Entrée\n",
    "assert np.load(\"array.npy\").all() == mat.all()\n",
    "print(\"Bravo !\")"
   ]
  }
 ],
 "metadata": {
  "celltoolbar": "Diaporama",
  "kernelspec": {
   "display_name": "Python 3",
   "language": "python",
   "name": "python3"
  },
  "language_info": {
   "codemirror_mode": {
    "name": "ipython",
    "version": 3
   },
   "file_extension": ".py",
   "mimetype": "text/x-python",
   "name": "python",
   "nbconvert_exporter": "python",
   "pygments_lexer": "ipython3",
   "version": "3.8.10"
  }
 },
 "nbformat": 4,
 "nbformat_minor": 4
}
